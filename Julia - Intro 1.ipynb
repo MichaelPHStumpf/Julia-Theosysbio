{
 "cells": [
  {
   "cell_type": "markdown",
   "metadata": {},
   "source": [
    "# Introduction to Julia\n",
    "## Applications to Systems Biology\n",
    "\n",
    "### Michael P.H. Stumpf\n",
    "\n",
    "This notebook lays out the basics of Julia for scientific programming in systems biology.\n"
   ]
  },
  {
   "cell_type": "markdown",
   "metadata": {},
   "source": [
    "## Variables and Basic Types in Julia\n",
    "\n",
    "Julia is very expressive and in addition to the standard types known from other languages, ```Int, Float```, ```Bool``` and ```String``` it offers a great variety of other, more specialized types. *Typing*, as we will show later is an important element in helping *Julia* to be so fast.\n",
    "\n",
    "For example we have"
   ]
  },
  {
   "cell_type": "code",
   "execution_count": 42,
   "metadata": {
    "collapsed": false
   },
   "outputs": [
    {
     "name": "stdout",
     "output_type": "stream",
     "text": [
      "Int64\n",
      "Float64\n",
      "String\n",
      "Bool\n",
      "Float64\n"
     ]
    }
   ],
   "source": [
    "x1=4;x2=4.0;x3=\"four\";x4 =true;x5=sin(x1)\n",
    "println(typeof(x1))\n",
    "println(typeof(x2))\n",
    "println(typeof(x3))\n",
    "println(typeof(x4))\n",
    "println(typeof(x5))"
   ]
  },
  {
   "cell_type": "markdown",
   "metadata": {},
   "source": [
    "The ```64``` after ```Int``` and ```Float``` denote the precission/memory associated with each variable. \n",
    "\n",
    "```String``` in turn, denotes the set of characters that can be associated with a given ```String```. _Julia_ has the ability to represent _Unicode_ natively.  \n",
    "\n",
    "A single character is stored as a ```Char```"
   ]
  },
  {
   "cell_type": "code",
   "execution_count": 4,
   "metadata": {
    "collapsed": false
   },
   "outputs": [
    {
     "data": {
      "text/plain": [
       "Char"
      ]
     },
     "execution_count": 4,
     "metadata": {},
     "output_type": "execute_result"
    }
   ],
   "source": [
    "typeof(x3[1])"
   ]
  },
  {
   "cell_type": "markdown",
   "metadata": {
    "collapsed": false
   },
   "source": [
    "Here we have started to use vector notation: each letter/character in a string can be accessed through its position in the string: in the above example, "
   ]
  },
  {
   "cell_type": "code",
   "execution_count": 15,
   "metadata": {
    "collapsed": false
   },
   "outputs": [
    {
     "data": {
      "text/plain": [
       "'f': ASCII/Unicode U+0066 (category Ll: Letter, lowercase)"
      ]
     },
     "execution_count": 15,
     "metadata": {},
     "output_type": "execute_result"
    }
   ],
   "source": [
    "x3[1]"
   ]
  },
  {
   "cell_type": "markdown",
   "metadata": {
    "collapsed": false
   },
   "source": [
    "Julia gives us many other options to define types of variables. Some of these are"
   ]
  },
  {
   "cell_type": "code",
   "execution_count": 6,
   "metadata": {
    "collapsed": false
   },
   "outputs": [
    {
     "name": "stdout",
     "output_type": "stream",
     "text": [
      "Rational{Int64}\n",
      "Complex{Int64}\n",
      "Complex{Float64}\n"
     ]
    }
   ],
   "source": [
    "r1=3//4; r2 = 2+3im; r3=2.0+pi*im\n",
    "println(typeof(r1))\n",
    "println(typeof(r2))\n",
    "println(typeof(r3))"
   ]
  },
  {
   "cell_type": "markdown",
   "metadata": {},
   "source": [
    "Here we have used ```pi``` to denote $\\pi$, which is build into _Julia_ like some other constants.\n",
    "\n",
    "Explicit *typing* is one of the strengths of _Julia_: it allows for efficient code, as each variable can be allocated a precise amount of memory, which in turn allows for very efficient processing of the resulting machine code. Many languages forgo explicit typing, which means that they are more flexible and appear more userfriendly. _R_, _Python_ and _Matlab_ are popular examples that are used in scientific computing; while they assign types to variables as well, they do so in a dynamic way, where the interpreted typically has to infer the nature of a variable at execution time. This, however, leads almost inevitably to slower execution times.\n",
    "\n",
    "In _Julia_ the nature of a variable is inferred at compile time, but we can help in this, by forcing certain types onto variables.\n",
    "\n",
    "We will revisit types later on, but here it suffices to say that _Julia_ also allows us to define our own types and we will encounter a host of relevant special types, such as those referring to array, matrices, sparse matrices and graphs, later on."
   ]
  },
  {
   "cell_type": "markdown",
   "metadata": {},
   "source": [
    "## Vectors & Matrices\n",
    "\n",
    "We typically want to work on large sets of variables and combine many of them in convenient formats."
   ]
  },
  {
   "cell_type": "code",
   "execution_count": 7,
   "metadata": {
    "collapsed": false
   },
   "outputs": [
    {
     "data": {
      "text/plain": [
       "3-element Array{Float64,1}:\n",
       " 3.2\n",
       " 3.1\n",
       " 3.0"
      ]
     },
     "execution_count": 7,
     "metadata": {},
     "output_type": "execute_result"
    }
   ],
   "source": [
    "a1 = [3.2,3.1,3]"
   ]
  },
  {
   "cell_type": "code",
   "execution_count": 8,
   "metadata": {
    "collapsed": false
   },
   "outputs": [
    {
     "data": {
      "text/plain": [
       "1×3 Array{Float64,2}:\n",
       " 3.2  3.1  3.0"
      ]
     },
     "execution_count": 8,
     "metadata": {},
     "output_type": "execute_result"
    }
   ],
   "source": [
    "a2 = [3.2 3.1 3]"
   ]
  },
  {
   "cell_type": "markdown",
   "metadata": {},
   "source": [
    "```a1``` is an array that represents a column vector, whereas ```a2``` would represent a row vector. \n",
    "\n",
    "Applying a function on the elements of such vectors is done by e.g. ```sin.(x)```, which applies the function ```sin``` component-wise and returns the output in the same format as the input."
   ]
  },
  {
   "cell_type": "code",
   "execution_count": 12,
   "metadata": {
    "collapsed": false
   },
   "outputs": [
    {
     "data": {
      "text/plain": [
       "3-element Array{Float64,1}:\n",
       " -0.0583741\n",
       "  0.0415807\n",
       "  0.14112  "
      ]
     },
     "execution_count": 12,
     "metadata": {},
     "output_type": "execute_result"
    }
   ],
   "source": [
    "sin.(a1)"
   ]
  },
  {
   "cell_type": "code",
   "execution_count": 10,
   "metadata": {
    "collapsed": false
   },
   "outputs": [
    {
     "data": {
      "text/plain": [
       "1×3 Array{Float64,2}:\n",
       " -0.0583741  0.0415807  0.14112"
      ]
     },
     "execution_count": 10,
     "metadata": {},
     "output_type": "execute_result"
    }
   ],
   "source": [
    "sin.(a2)"
   ]
  },
  {
   "cell_type": "markdown",
   "metadata": {},
   "source": [
    "Note that the row vector is already represented as a 2d Array or matrix; we can see this by asking for the dimension of the two vectors using ```ndims```:"
   ]
  },
  {
   "cell_type": "code",
   "execution_count": 13,
   "metadata": {
    "collapsed": false
   },
   "outputs": [
    {
     "data": {
      "text/plain": [
       "1"
      ]
     },
     "execution_count": 13,
     "metadata": {},
     "output_type": "execute_result"
    }
   ],
   "source": [
    "ndims(a1)"
   ]
  },
  {
   "cell_type": "code",
   "execution_count": 14,
   "metadata": {
    "collapsed": false
   },
   "outputs": [
    {
     "data": {
      "text/plain": [
       "2"
      ]
     },
     "execution_count": 14,
     "metadata": {},
     "output_type": "execute_result"
    }
   ],
   "source": [
    "ndims(a2)"
   ]
  },
  {
   "cell_type": "markdown",
   "metadata": {},
   "source": [
    "_Indexing_, however, works similarly for both arrays:"
   ]
  },
  {
   "cell_type": "code",
   "execution_count": 25,
   "metadata": {
    "collapsed": false
   },
   "outputs": [
    {
     "name": "stdout",
     "output_type": "stream",
     "text": [
      "3.2\n",
      "3.2\n",
      "3.1\n",
      "3.1\n"
     ]
    }
   ],
   "source": [
    "println(a1[1])\n",
    "println(a2[1])\n",
    "println(a1[2])\n",
    "println(a2[2])"
   ]
  },
  {
   "cell_type": "markdown",
   "metadata": {},
   "source": [
    "Matrices are two-dimensional arrays and can be defined flexibly. We can specify the entries of the matrix explicitly,"
   ]
  },
  {
   "cell_type": "code",
   "execution_count": 1,
   "metadata": {
    "collapsed": false
   },
   "outputs": [
    {
     "data": {
      "text/plain": [
       "2×3 Array{Float64,2}:\n",
       " 1.0  2.0  3.0\n",
       " 1.5  2.5  3.5"
      ]
     },
     "execution_count": 1,
     "metadata": {},
     "output_type": "execute_result"
    }
   ],
   "source": [
    "amat = [ 1.0 2.0 3.0; 1.5 2.5 3.5]"
   ]
  },
  {
   "cell_type": "markdown",
   "metadata": {},
   "source": [
    "or use one of the many generators of matrices that _Julia_ offers. We can, for example, construct a $3\\times4$ matrix containing onley \"1\"s"
   ]
  },
  {
   "cell_type": "code",
   "execution_count": 2,
   "metadata": {
    "collapsed": false
   },
   "outputs": [
    {
     "data": {
      "text/plain": [
       "4×3 Array{Float64,2}:\n",
       " 1.0  1.0  1.0\n",
       " 1.0  1.0  1.0\n",
       " 1.0  1.0  1.0\n",
       " 1.0  1.0  1.0"
      ]
     },
     "execution_count": 2,
     "metadata": {},
     "output_type": "execute_result"
    }
   ],
   "source": [
    "ones(4,3)"
   ]
  },
  {
   "cell_type": "markdown",
   "metadata": {},
   "source": [
    "or generate a matrix containing $6\\times 6$ random values drawn from the unit interval, i.e. $r_{ij}\\in[0,1]$ for $1\\le i,j \\le 6$, "
   ]
  },
  {
   "cell_type": "code",
   "execution_count": 3,
   "metadata": {
    "collapsed": false
   },
   "outputs": [
    {
     "data": {
      "text/plain": [
       "6×6 Array{Float64,2}:\n",
       " 0.371491   0.854054   0.470268  0.358902  0.275471  0.829826\n",
       " 0.0236102  0.0585716  0.908118  0.647096  0.707748  0.798248\n",
       " 0.83421    0.828837   0.342746  0.74896   0.719952  0.285807\n",
       " 0.686808   0.107792   0.285756  0.735086  0.669953  0.483925\n",
       " 0.367296   0.569715   0.605346  0.959884  0.835092  0.96003 \n",
       " 0.593361   0.622308   0.369423  0.464087  0.545643  0.824879"
      ]
     },
     "execution_count": 3,
     "metadata": {},
     "output_type": "execute_result"
    }
   ],
   "source": [
    "rmat=rand(6,6)"
   ]
  },
  {
   "cell_type": "markdown",
   "metadata": {},
   "source": [
    "### Matrix Arithmetic\n",
    "\n",
    "_Julia_ has inherited much of _Matlab_'s matrix prowess. We can calculate the eigen-systems of a matrix (here we use ```rmat``` to illustrate the methods),"
   ]
  },
  {
   "cell_type": "code",
   "execution_count": 4,
   "metadata": {
    "collapsed": false
   },
   "outputs": [
    {
     "data": {
      "text/plain": [
       "(Complex{Float64}[3.4655+0.0im, -0.485065+0.169079im, -0.485065-0.169079im, 0.250845+0.280479im, 0.250845-0.280479im, 0.170807+0.0im], Complex{Float64}[0.363338+0.0im -0.372228-0.201393im … 0.492392-0.0im -0.412852+0.0im; 0.382196+0.0im 0.637703+0.0im … -0.177822-0.284911im 0.0648972+0.0im; … ; 0.505034+0.0im -0.119838-0.20059im … -0.398973-0.136566im 0.673662+0.0im; 0.397718+0.0im -0.0849113+0.0662321im … 0.304052+0.206814im 0.204246+0.0im])"
      ]
     },
     "execution_count": 4,
     "metadata": {},
     "output_type": "execute_result"
    }
   ],
   "source": [
    "eig(rmat)"
   ]
  },
  {
   "cell_type": "markdown",
   "metadata": {},
   "source": [
    "which yields a set of eigenvalues and eigenvectors. The eigenvalues are a mixture of real and pairs of complex conjugate numbers. Eigenvectors are real, but stored as complex values.\n",
    "\n",
    "To process this further we can make use of _Julia_'s ```ans``` variable, which is the output of the last computation:"
   ]
  },
  {
   "cell_type": "code",
   "execution_count": 5,
   "metadata": {
    "collapsed": false
   },
   "outputs": [],
   "source": [
    "esystem=ans;"
   ]
  },
  {
   "cell_type": "markdown",
   "metadata": {},
   "source": [
    "This we can now investiage further using ```typeof```"
   ]
  },
  {
   "cell_type": "code",
   "execution_count": 6,
   "metadata": {
    "collapsed": false
   },
   "outputs": [
    {
     "data": {
      "text/plain": [
       "Tuple{Array{Complex{Float64},1},Array{Complex{Float64},2}}"
      ]
     },
     "execution_count": 6,
     "metadata": {},
     "output_type": "execute_result"
    }
   ],
   "source": [
    "typeof(esystem)"
   ]
  },
  {
   "cell_type": "markdown",
   "metadata": {},
   "source": [
    "This array contains as the first element a vector of the eigenvalues (ordered by the size of the real part,"
   ]
  },
  {
   "cell_type": "code",
   "execution_count": 7,
   "metadata": {
    "collapsed": false
   },
   "outputs": [
    {
     "data": {
      "text/plain": [
       "6-element Array{Complex{Float64},1}:\n",
       "    3.4655+0.0im     \n",
       " -0.485065+0.169079im\n",
       " -0.485065-0.169079im\n",
       "  0.250845+0.280479im\n",
       "  0.250845-0.280479im\n",
       "  0.170807+0.0im     "
      ]
     },
     "execution_count": 7,
     "metadata": {},
     "output_type": "execute_result"
    }
   ],
   "source": [
    "esystem[1]"
   ]
  },
  {
   "cell_type": "markdown",
   "metadata": {},
   "source": [
    "and in its second element it has the set of eigenvectors,"
   ]
  },
  {
   "cell_type": "code",
   "execution_count": 8,
   "metadata": {
    "collapsed": false
   },
   "outputs": [
    {
     "data": {
      "text/plain": [
       "6×6 Array{Complex{Float64},2}:\n",
       " 0.363338+0.0im   -0.372228-0.201393im   …  -0.412852+0.0im\n",
       " 0.382196+0.0im    0.637703+0.0im           0.0648972+0.0im\n",
       "  0.43441+0.0im   -0.433996+0.0596231im     -0.532417+0.0im\n",
       " 0.346354+0.0im    0.322711+0.227987im      -0.215259+0.0im\n",
       " 0.505034+0.0im   -0.119838-0.20059im        0.673662+0.0im\n",
       " 0.397718+0.0im  -0.0849113+0.0662321im  …   0.204246+0.0im"
      ]
     },
     "execution_count": 8,
     "metadata": {},
     "output_type": "execute_result"
    }
   ],
   "source": [
    "esystem[2]"
   ]
  },
  {
   "cell_type": "markdown",
   "metadata": {},
   "source": [
    "These can now be processed further if so desired.\n",
    "\n",
    "But there are also many other operations, that are natively implemented in _Julia_, e.g. transpose and determinant"
   ]
  },
  {
   "cell_type": "code",
   "execution_count": 9,
   "metadata": {
    "collapsed": false
   },
   "outputs": [
    {
     "data": {
      "text/plain": [
       "6×6 Array{Float64,2}:\n",
       " 0.371491  0.0236102  0.83421   0.686808  0.367296  0.593361\n",
       " 0.854054  0.0585716  0.828837  0.107792  0.569715  0.622308\n",
       " 0.470268  0.908118   0.342746  0.285756  0.605346  0.369423\n",
       " 0.358902  0.647096   0.74896   0.735086  0.959884  0.464087\n",
       " 0.275471  0.707748   0.719952  0.669953  0.835092  0.545643\n",
       " 0.829826  0.798248   0.285807  0.483925  0.96003   0.824879"
      ]
     },
     "execution_count": 9,
     "metadata": {},
     "output_type": "execute_result"
    }
   ],
   "source": [
    "transpose(rmat)"
   ]
  },
  {
   "cell_type": "code",
   "execution_count": 10,
   "metadata": {
    "collapsed": false
   },
   "outputs": [
    {
     "data": {
      "text/plain": [
       "0.022116208895895634"
      ]
     },
     "execution_count": 10,
     "metadata": {},
     "output_type": "execute_result"
    }
   ],
   "source": [
    "det(rmat)"
   ]
  },
  {
   "cell_type": "markdown",
   "metadata": {},
   "source": [
    "and all standard examples from matrix algebra are defined and work as expected. Matrix multiplication, for example works as expected, e.g. with a new matrix ```bmat```"
   ]
  },
  {
   "cell_type": "code",
   "execution_count": 11,
   "metadata": {
    "collapsed": false
   },
   "outputs": [
    {
     "data": {
      "text/plain": [
       "3×2 Array{Float64,2}:\n",
       " 1.5  2.7\n",
       " 2.5  3.5\n",
       " 3.5  3.7"
      ]
     },
     "execution_count": 11,
     "metadata": {},
     "output_type": "execute_result"
    }
   ],
   "source": [
    "bmat = [ 1.5 2.7; 2.5 3.5; 3.5 3.7]"
   ]
  },
  {
   "cell_type": "markdown",
   "metadata": {},
   "source": [
    "we obtain for the two possible matrix producs"
   ]
  },
  {
   "cell_type": "code",
   "execution_count": 12,
   "metadata": {
    "collapsed": false
   },
   "outputs": [
    {
     "data": {
      "text/plain": [
       "2×2 Array{Float64,2}:\n",
       " 17.0   20.8 \n",
       " 20.75  25.75"
      ]
     },
     "execution_count": 12,
     "metadata": {},
     "output_type": "execute_result"
    }
   ],
   "source": [
    "amat*bmat"
   ]
  },
  {
   "cell_type": "code",
   "execution_count": 13,
   "metadata": {
    "collapsed": false
   },
   "outputs": [
    {
     "data": {
      "text/plain": [
       "3×3 Array{Float64,2}:\n",
       " 5.55   9.75  13.95\n",
       " 7.75  13.75  19.75\n",
       " 9.05  16.25  23.45"
      ]
     },
     "execution_count": 13,
     "metadata": {},
     "output_type": "execute_result"
    }
   ],
   "source": [
    "bmat*amat"
   ]
  },
  {
   "cell_type": "markdown",
   "metadata": {},
   "source": [
    "and further"
   ]
  },
  {
   "cell_type": "code",
   "execution_count": 14,
   "metadata": {
    "collapsed": false
   },
   "outputs": [
    {
     "data": {
      "text/plain": [
       "2×3 Array{Float64,2}:\n",
       " 3.14159  6.28319   9.42478\n",
       " 4.71239  7.85398  10.9956 "
      ]
     },
     "execution_count": 14,
     "metadata": {},
     "output_type": "execute_result"
    }
   ],
   "source": [
    "pi*amat"
   ]
  },
  {
   "cell_type": "markdown",
   "metadata": {},
   "source": [
    "Here ```*``` denotes the conventional matrix multiplication. We can also have component-wise multiplication (e.g. the _Hadamard product_ of two matrices), which is denoted by ```.```, i.e."
   ]
  },
  {
   "cell_type": "code",
   "execution_count": 15,
   "metadata": {
    "collapsed": false
   },
   "outputs": [
    {
     "data": {
      "text/plain": [
       "2×2 Array{Float64,2}:\n",
       " 1.5  2.0\n",
       " 3.0  6.0"
      ]
     },
     "execution_count": 15,
     "metadata": {},
     "output_type": "execute_result"
    }
   ],
   "source": [
    "[1.0 2.0; 2.0 3.0].*[1.5 1; 1.5 2]"
   ]
  },
  {
   "cell_type": "markdown",
   "metadata": {},
   "source": [
    "Addition is of, course, component-wise by default"
   ]
  },
  {
   "cell_type": "code",
   "execution_count": 16,
   "metadata": {
    "collapsed": false
   },
   "outputs": [
    {
     "data": {
      "text/plain": [
       "2×2 Array{Float64,2}:\n",
       " 2.0  3.0\n",
       " 3.0  4.0"
      ]
     },
     "execution_count": 16,
     "metadata": {},
     "output_type": "execute_result"
    }
   ],
   "source": [
    "[1.0 2.0; 2.0 3.0]+ones(2,2)"
   ]
  },
  {
   "cell_type": "markdown",
   "metadata": {},
   "source": [
    "## Mathematics and Floating Point Arithmetic\n",
    "\n",
    "We can use _Julia_, especially in the _Jupyter_ environment as a calculator. _Julia_'s built-in mathematical functionality is powerful and flexible. By default functions are easily applied (component-wise) to vectors and matrices. For example,"
   ]
  },
  {
   "cell_type": "code",
   "execution_count": 18,
   "metadata": {
    "collapsed": false
   },
   "outputs": [
    {
     "data": {
      "text/plain": [
       "2×3 Array{Float64,2}:\n",
       "  1.22465e-16  -2.44929e-16   3.67394e-16\n",
       " -1.0           1.0          -1.0        "
      ]
     },
     "execution_count": 18,
     "metadata": {},
     "output_type": "execute_result"
    }
   ],
   "source": [
    "sin.(pi*amat)"
   ]
  },
  {
   "cell_type": "markdown",
   "metadata": {},
   "source": [
    "Here we now have to deal with issues of numerical accuracy and the intricacies of floating-point arithmetic. The elements in the first row of the above matrix should all be equal to zero. For our purposes the difference between two floating points that can be represented is given by"
   ]
  },
  {
   "cell_type": "code",
   "execution_count": 19,
   "metadata": {
    "collapsed": false
   },
   "outputs": [
    {
     "data": {
      "text/plain": [
       "2.220446049250313e-16"
      ]
     },
     "execution_count": 19,
     "metadata": {},
     "output_type": "execute_result"
    }
   ],
   "source": [
    "eps(Float64)"
   ]
  },
  {
   "cell_type": "markdown",
   "metadata": {},
   "source": [
    "This is the next real number greater than ```1``` that can be represented. More generally we can use ```eps(x)``` to identify the next number greater than ```x``` that can be represented. E.g."
   ]
  },
  {
   "cell_type": "code",
   "execution_count": 20,
   "metadata": {
    "collapsed": false
   },
   "outputs": [
    {
     "data": {
      "text/plain": [
       "5.0e-324"
      ]
     },
     "execution_count": 20,
     "metadata": {},
     "output_type": "execute_result"
    }
   ],
   "source": [
    "eps(0.0)"
   ]
  },
  {
   "cell_type": "code",
   "execution_count": 21,
   "metadata": {
    "collapsed": false
   },
   "outputs": [
    {
     "data": {
      "text/plain": [
       "1.4210854715202004e-14"
      ]
     },
     "execution_count": 21,
     "metadata": {},
     "output_type": "execute_result"
    }
   ],
   "source": [
    "eps(100.0)"
   ]
  },
  {
   "cell_type": "markdown",
   "metadata": {},
   "source": [
    "So the density of floating point numbers that can be represented changes: it is densest around zero and then the spacing between adjacent representable floating point numbers increases exponentially. \n",
    "\n",
    "Floating point arithmetic can be a problem, and _Julia_ offers tools to deal with many of the issues that can arise, for example rounding:"
   ]
  },
  {
   "cell_type": "code",
   "execution_count": 22,
   "metadata": {
    "collapsed": false
   },
   "outputs": [
    {
     "data": {
      "text/plain": [
       "5.0"
      ]
     },
     "execution_count": 22,
     "metadata": {},
     "output_type": "execute_result"
    }
   ],
   "source": [
    "round(4.1+0.7)"
   ]
  },
  {
   "cell_type": "markdown",
   "metadata": {
    "collapsed": true
   },
   "source": [
    "## Loops and Control Structures\n",
    "\n",
    "Programming is meant to make repetetive tasks easier. *Loops* are one way of doing things repeatedly. \n",
    "\n",
    "For example, we can generate the *Monte Carlo estimate* of the integral\n",
    "$$\n",
    "\\int_0^\\pi \\frac{\\sin^2(x)}{1+x} \n",
    "$$\n",
    "\n",
    "It is easy to check that the value of the integrand must be contained in the interval $[0,1]$. We can then generate a random number between $0$ and $\\pi$, evaluate the integrand, and keep track of all trials for which this value is greater than that of another random variable $y\\in[0,1]$."
   ]
  },
  {
   "cell_type": "code",
   "execution_count": 40,
   "metadata": {
    "collapsed": false
   },
   "outputs": [
    {
     "name": "stdout",
     "output_type": "stream",
     "text": [
      "0.6505295907788384\n"
     ]
    }
   ],
   "source": [
    "N=100000 # Number of Monte Carlo trials\n",
    "area = 0.0 # This will measure the number of simulated points that lie below the function.\n",
    "for i in 1:N\n",
    "    x=pi*rand()  # Generates a uniform random variable between 0 and Pi\n",
    "    y=rand()     # Generates a uniform random variable between 0 and 1\n",
    "    if (sin(x)*sin(x)/(1+x) > y) # Tests if y is less than the value of the function evaluated at x\n",
    "        area = area +1.0 # if it is, it adds 1.0 to area.\n",
    "    end\n",
    "end\n",
    "println(pi*area/N) # The fraction of number of trials which were below the line times Pi is the MC estimate for the integral."
   ]
  },
  {
   "cell_type": "markdown",
   "metadata": {},
   "source": [
    "The result should be very close to the exact result, $0.6450$ (which can be evaluated using sine and cosine integrals).\n",
    "\n",
    "Here we have a ```for``` loop running from 1 to $N$, which uses an ```if``` statement in the evaluation if the random point $y$ lies below the function, $f(x)$.\n",
    "\n",
    "```for``` loops can run over every iteratable data type. For example,"
   ]
  },
  {
   "cell_type": "code",
   "execution_count": 44,
   "metadata": {
    "collapsed": false
   },
   "outputs": [
    {
     "name": "stdout",
     "output_type": "stream",
     "text": [
      "f\n",
      "o\n",
      "u\n",
      "r\n"
     ]
    }
   ],
   "source": [
    "for c in x3\n",
    "    println(c)\n",
    "end"
   ]
  },
  {
   "cell_type": "code",
   "execution_count": 48,
   "metadata": {
    "collapsed": false
   },
   "outputs": [
    {
     "name": "stdout",
     "output_type": "stream",
     "text": [
      "4\n",
      "4.0\n",
      "four\n",
      "true\n"
     ]
    }
   ],
   "source": [
    "xx=[x1,x2,x3,x4]\n",
    "for xval in xx\n",
    "    println(xval)\n",
    "end"
   ]
  },
  {
   "cell_type": "markdown",
   "metadata": {},
   "source": [
    "The type of ```xx``` is"
   ]
  },
  {
   "cell_type": "code",
   "execution_count": 49,
   "metadata": {
    "collapsed": false
   },
   "outputs": [
    {
     "data": {
      "text/plain": [
       "Array{Any,1}"
      ]
     },
     "execution_count": 49,
     "metadata": {},
     "output_type": "execute_result"
    }
   ],
   "source": [
    "typeof(xx)"
   ]
  },
  {
   "cell_type": "markdown",
   "metadata": {},
   "source": [
    "which is a very flexible construct, but which stretches *Julia*'s typing system and incurs performance penalties.\n",
    "\n",
    "Again, ```types``` will concern us later again.\n",
    "\n",
    "```for``` loops and ```if``` conditional statements already suffice to construct complex programs, and we will frequently use them below. By aed nd large, ```for``` loops are used when we do run over a set of iterators, without having the need to evaluate conditions with the aim of terminating the loop.\n",
    "\n",
    "```if``` is much more flexible than suggested above, and can be extended very flexibly. We can use it together with the ```break``` command to terminate the loop.\n",
    "\n"
   ]
  },
  {
   "cell_type": "code",
   "execution_count": 55,
   "metadata": {
    "collapsed": false
   },
   "outputs": [
    {
     "name": "stdout",
     "output_type": "stream",
     "text": [
      "33,32, 35\n"
     ]
    }
   ],
   "source": [
    "rvec=rand(100)\n",
    "lowthird=0\n",
    "midthird=0\n",
    "hghthird=0\n",
    "for val in rvec\n",
    "    if val<(1/3)\n",
    "        lowthird+=1\n",
    "    elseif val<(2/3)\n",
    "        midthird+=1\n",
    "    else\n",
    "        hghthird+=1\n",
    "    end\n",
    "end\n",
    "println(lowthird,\",\",midthird,\", \",hghthird)"
   ]
  },
  {
   "cell_type": "markdown",
   "metadata": {},
   "source": [
    "Together with ```elseif``` (several in series if required) and ```else``` we can use ```if``` statements to implement several conditions and e.g. sort data into different categories.\n",
    "\n",
    "But other constructs are available, which appe loop.ly conditions to the evaluation. This can either be at the start, or the end of a loop. ```while``` loops evaluate a condition at the start of the loop."
   ]
  },
  {
   "cell_type": "code",
   "execution_count": 59,
   "metadata": {
    "collapsed": false
   },
   "outputs": [
    {
     "name": "stdout",
     "output_type": "stream",
     "text": [
      "1, 3\n",
      "2, 4\n",
      "4\n"
     ]
    }
   ],
   "source": [
    "u=2\n",
    "i=1\n",
    "while u<4\n",
    "    u+=1\n",
    "    println(i,\", \",u)\n",
    "    i+=1\n",
    "end\n",
    "println(u)"
   ]
  },
  {
   "cell_type": "markdown",
   "metadata": {},
   "source": [
    "Here the aim has been to give a basic overview of *Julia*'s ```type``` system, *Julia*'s used as a calculator for matrix manipulations, and basic control structures.\n",
    "\n",
    "Next we will introduce\n",
    "1. Some of *Julia*'s packages, and their general use.\n",
    "2. Basic plotting.\n",
    "3. Functions.\n"
   ]
  },
  {
   "cell_type": "code",
   "execution_count": null,
   "metadata": {
    "collapsed": true
   },
   "outputs": [],
   "source": []
  }
 ],
 "metadata": {
  "kernelspec": {
   "display_name": "Julia 0.6.0",
   "language": "julia",
   "name": "julia-0.6"
  },
  "language_info": {
   "file_extension": ".jl",
   "mimetype": "application/julia",
   "name": "julia",
   "version": "0.6.0"
  }
 },
 "nbformat": 4,
 "nbformat_minor": 0
}
